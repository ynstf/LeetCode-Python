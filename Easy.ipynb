{
 "cells": [
  {
   "cell_type": "markdown",
   "id": "41576206",
   "metadata": {},
   "source": [
    "# 1. Two Sum\n",
    "\n",
    "**Difficulty**: Easy  \n",
    "**Topics**: Arrays, Hash Map  \n",
    "**Companies**: [Premium Lock Icon]\n",
    "\n",
    "## Problem\n",
    "\n",
    "Given an array of integers `nums` and an integer `target`, return **indices** of the two numbers such that they **add up to `target`**.\n",
    "\n",
    "You may assume that **each input would have exactly one solution**, and you **may not use the same element twice**.\n",
    "\n",
    "You can return the answer in **any order**.\n",
    "\n",
    "---\n",
    "\n",
    "## Examples\n",
    "\n",
    "### Example 1:\n",
    "```\n",
    "\n",
    "Input: nums = \\[2,7,11,15], target = 9\n",
    "Output: \\[0,1]\n",
    "Explanation: Because nums\\[0] + nums\\[1] == 9, we return \\[0, 1].\n",
    "\n",
    "```\n",
    "\n",
    "### Example 2:\n",
    "```\n",
    "\n",
    "Input: nums = \\[3,2,4], target = 6\n",
    "Output: \\[1,2]\n",
    "\n",
    "```\n",
    "\n",
    "### Example 3:\n",
    "```\n",
    "\n",
    "Input: nums = \\[3,3], target = 6\n",
    "Output: \\[0,1]\n",
    "\n",
    "```\n",
    "\n",
    "---\n",
    "\n",
    "## Constraints:\n",
    "\n",
    "- `2 <= nums.length <= 10^4`\n",
    "- `-10^9 <= nums[i] <= 10^9`\n",
    "- `-10^9 <= target <= 10^9`\n",
    "- Only **one valid answer** exists.\n",
    "\n",
    "---\n",
    "\n",
    "## Follow-up:\n",
    "\n",
    "Can you come up with an algorithm that is **less than O(n²)** time complexity?\n",
    "```\n",
    "\n",
    "\n"
   ]
  },
  {
   "cell_type": "markdown",
   "id": "e1f3eb6f",
   "metadata": {},
   "source": [
    "## Brut Force"
   ]
  },
  {
   "cell_type": "code",
   "execution_count": 11,
   "id": "3070cdda",
   "metadata": {},
   "outputs": [],
   "source": [
    "\n",
    "def twoSum(nums, target):\n",
    "    for i in range(len(nums)):\n",
    "        for j in range(i, len(nums)):\n",
    "            if nums[i] + nums[j] == target and i!=j:\n",
    "                return [i,j]"
   ]
  },
  {
   "cell_type": "code",
   "execution_count": 21,
   "id": "8f1fc2dc",
   "metadata": {},
   "outputs": [
    {
     "data": {
      "text/plain": [
       "[1, 3]"
      ]
     },
     "execution_count": 21,
     "metadata": {},
     "output_type": "execute_result"
    }
   ],
   "source": [
    "nums=[2,5,6,4,3,7]\n",
    "target=9\n",
    "twoSum(nums, target)"
   ]
  },
  {
   "cell_type": "markdown",
   "id": "5939fb62",
   "metadata": {},
   "source": [
    "## one pass"
   ]
  },
  {
   "cell_type": "code",
   "execution_count": 19,
   "id": "df92ace1",
   "metadata": {},
   "outputs": [],
   "source": [
    "from typing import List\n",
    "def twoSum(nums: List[int], target: int) -> List[int]:\n",
    "    prevMap = {}  # value -> index\n",
    "\n",
    "    for i, n in enumerate(nums):\n",
    "        diff = target - n\n",
    "        if diff in prevMap:\n",
    "            return [prevMap[diff], i]\n",
    "        prevMap[n] = i\n",
    "\n",
    "    # If no solution is found (per problem constraints this line is never reached)\n",
    "    return []"
   ]
  },
  {
   "cell_type": "code",
   "execution_count": 20,
   "id": "6dc10c65",
   "metadata": {},
   "outputs": [
    {
     "data": {
      "text/plain": [
       "[1, 3]"
      ]
     },
     "execution_count": 20,
     "metadata": {},
     "output_type": "execute_result"
    }
   ],
   "source": [
    "nums=[2,5,6,4,3,7]\n",
    "target=9\n",
    "twoSum(nums, target)"
   ]
  },
  {
   "cell_type": "code",
   "execution_count": null,
   "id": "33a17181",
   "metadata": {},
   "outputs": [],
   "source": []
  }
 ],
 "metadata": {
  "kernelspec": {
   "display_name": "Python 3 (ipykernel)",
   "language": "python",
   "name": "python3"
  },
  "language_info": {
   "codemirror_mode": {
    "name": "ipython",
    "version": 3
   },
   "file_extension": ".py",
   "mimetype": "text/x-python",
   "name": "python",
   "nbconvert_exporter": "python",
   "pygments_lexer": "ipython3",
   "version": "3.9.12"
  }
 },
 "nbformat": 4,
 "nbformat_minor": 5
}
